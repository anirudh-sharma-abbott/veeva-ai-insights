{
 "cells": [
  {
   "cell_type": "code",
   "execution_count": null,
   "id": "8e1e148c",
   "metadata": {},
   "outputs": [],
   "source": []
  },
  {
   "cell_type": "code",
   "execution_count": 1,
   "id": "e55d4d21",
   "metadata": {},
   "outputs": [
    {
     "name": "stdout",
     "output_type": "stream",
     "text": [
      "✅ Updated hcp_profiles.csv with varied conversion scores.\n"
     ]
    }
   ],
   "source": [
    "import pandas as pd\n",
    "import numpy as np\n",
    "\n",
    "# Load your existing file\n",
    "df = pd.read_csv(\"data/hcp_profiles.csv\")\n",
    "\n",
    "# Create diverse conversion scores:\n",
    "np.random.seed(42)  # for reproducibility\n",
    "df[\"conversion_score\"] = np.where(\n",
    "    df.index % 3 == 0, np.random.uniform(0.2, 0.4, size=len(df)),  # Low\n",
    "    np.where(df.index % 3 == 1, np.random.uniform(0.4, 0.6, size=len(df)),  # Medium\n",
    "             np.random.uniform(0.6, 0.9, size=len(df)))  # High\n",
    ")\n",
    "\n",
    "# Save the updated file\n",
    "df.to_csv(\"data/hcp_profiles.csv\", index=False)\n",
    "print(\"✅ Updated hcp_profiles.csv with varied conversion scores.\")"
   ]
  },
  {
   "cell_type": "code",
   "execution_count": 2,
   "id": "f4987a3e",
   "metadata": {},
   "outputs": [
    {
     "name": "stdout",
     "output_type": "stream",
     "text": [
      "✅ Fixed: Added 'last_call_date' to hcp_profiles.csv\n"
     ]
    }
   ],
   "source": [
    "import pandas as pd\n",
    "from datetime import datetime, timedelta\n",
    "import numpy as np\n",
    "\n",
    "df = pd.read_csv(\"data/hcp_profiles.csv\")\n",
    "\n",
    "# Add if missing\n",
    "if \"last_call_date\" not in df.columns:\n",
    "    # Randomize last call dates in the past 60 days\n",
    "    np.random.seed(42)\n",
    "    df[\"last_call_date\"] = [datetime.now() - timedelta(days=int(x)) for x in np.random.randint(0, 60, size=len(df))]\n",
    "\n",
    "# Save the file\n",
    "df.to_csv(\"data/hcp_profiles.csv\", index=False)\n",
    "print(\"✅ Fixed: Added 'last_call_date' to hcp_profiles.csv\")\n"
   ]
  },
  {
   "cell_type": "code",
   "execution_count": null,
   "id": "1196f9cf",
   "metadata": {},
   "outputs": [],
   "source": []
  }
 ],
 "metadata": {
  "kernelspec": {
   "display_name": "base",
   "language": "python",
   "name": "python3"
  },
  "language_info": {
   "codemirror_mode": {
    "name": "ipython",
    "version": 3
   },
   "file_extension": ".py",
   "mimetype": "text/x-python",
   "name": "python",
   "nbconvert_exporter": "python",
   "pygments_lexer": "ipython3",
   "version": "3.12.3"
  }
 },
 "nbformat": 4,
 "nbformat_minor": 5
}
