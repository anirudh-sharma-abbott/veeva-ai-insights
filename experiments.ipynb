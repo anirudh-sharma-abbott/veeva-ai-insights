{
 "cells": [
  {
   "cell_type": "code",
   "execution_count": null,
   "id": "8e1e148c",
   "metadata": {},
   "outputs": [],
   "source": []
  },
  {
   "cell_type": "code",
   "execution_count": 1,
   "id": "e55d4d21",
   "metadata": {},
   "outputs": [
    {
     "name": "stdout",
     "output_type": "stream",
     "text": [
      "✅ Updated hcp_profiles.csv with varied conversion scores.\n"
     ]
    }
   ],
   "source": [
    "import pandas as pd\n",
    "import numpy as np\n",
    "\n",
    "# Load your existing file\n",
    "df = pd.read_csv(\"data/hcp_profiles.csv\")\n",
    "\n",
    "# Create diverse conversion scores:\n",
    "np.random.seed(42)  # for reproducibility\n",
    "df[\"conversion_score\"] = np.where(\n",
    "    df.index % 3 == 0, np.random.uniform(0.2, 0.4, size=len(df)),  # Low\n",
    "    np.where(df.index % 3 == 1, np.random.uniform(0.4, 0.6, size=len(df)),  # Medium\n",
    "             np.random.uniform(0.6, 0.9, size=len(df)))  # High\n",
    ")\n",
    "\n",
    "# Save the updated file\n",
    "df.to_csv(\"data/hcp_profiles.csv\", index=False)\n",
    "print(\"✅ Updated hcp_profiles.csv with varied conversion scores.\")"
   ]
  },
  {
   "cell_type": "code",
   "execution_count": 2,
   "id": "f4987a3e",
   "metadata": {},
   "outputs": [
    {
     "name": "stdout",
     "output_type": "stream",
     "text": [
      "✅ Fixed: Added 'last_call_date' to hcp_profiles.csv\n"
     ]
    }
   ],
   "source": [
    "import pandas as pd\n",
    "from datetime import datetime, timedelta\n",
    "import numpy as np\n",
    "\n",
    "df = pd.read_csv(\"data/hcp_profiles.csv\")\n",
    "\n",
    "# Add if missing\n",
    "if \"last_call_date\" not in df.columns:\n",
    "    # Randomize last call dates in the past 60 days\n",
    "    np.random.seed(42)\n",
    "    df[\"last_call_date\"] = [datetime.now() - timedelta(days=int(x)) for x in np.random.randint(0, 60, size=len(df))]\n",
    "\n",
    "# Save the file\n",
    "df.to_csv(\"data/hcp_profiles.csv\", index=False)\n",
    "print(\"✅ Fixed: Added 'last_call_date' to hcp_profiles.csv\")\n"
   ]
  },
  {
   "cell_type": "code",
   "execution_count": 3,
   "id": "33de6cee",
   "metadata": {},
   "outputs": [],
   "source": [
    "import pandas as pd"
   ]
  },
  {
   "cell_type": "code",
   "execution_count": 5,
   "id": "1196f9cf",
   "metadata": {},
   "outputs": [],
   "source": [
    "# Load the main file\n",
    "df = pd.read_csv(\"data/bay_area_providers_routing.csv\")\n",
    "\n",
    "# Load the NBA predictions file\n",
    "nba_df = pd.read_csv(\"data/Simulated_NBA_Predictions.csv\")\n",
    "\n",
    "# Merge conversion scores into the main DataFrame\n",
    "df = df.merge(nba_df, on=[\"Provider Name\", \"ZIP Code\"], how=\"left\")\n"
   ]
  },
  {
   "cell_type": "code",
   "execution_count": 6,
   "id": "c566ad34",
   "metadata": {},
   "outputs": [
    {
     "data": {
      "text/html": [
       "<div>\n",
       "<style scoped>\n",
       "    .dataframe tbody tr th:only-of-type {\n",
       "        vertical-align: middle;\n",
       "    }\n",
       "\n",
       "    .dataframe tbody tr th {\n",
       "        vertical-align: top;\n",
       "    }\n",
       "\n",
       "    .dataframe thead th {\n",
       "        text-align: right;\n",
       "    }\n",
       "</style>\n",
       "<table border=\"1\" class=\"dataframe\">\n",
       "  <thead>\n",
       "    <tr style=\"text-align: right;\">\n",
       "      <th></th>\n",
       "      <th>Provider Name</th>\n",
       "      <th>Provider Address</th>\n",
       "      <th>City/Town</th>\n",
       "      <th>State</th>\n",
       "      <th>ZIP Code</th>\n",
       "      <th>Latitude</th>\n",
       "      <th>Longitude</th>\n",
       "      <th>Overall Rating</th>\n",
       "      <th>Number of Certified Beds</th>\n",
       "      <th>Average Number of Residents per Day</th>\n",
       "      <th>conversion_score</th>\n",
       "    </tr>\n",
       "  </thead>\n",
       "  <tbody>\n",
       "    <tr>\n",
       "      <th>0</th>\n",
       "      <td>BANCROFT HEALTHCARE CENTER</td>\n",
       "      <td>1475 BANCROFT AVENUE</td>\n",
       "      <td>SAN LEANDRO</td>\n",
       "      <td>CA</td>\n",
       "      <td>94577</td>\n",
       "      <td>37.7256</td>\n",
       "      <td>-122.15</td>\n",
       "      <td>4.0</td>\n",
       "      <td>39</td>\n",
       "      <td>34.7</td>\n",
       "      <td>0.69</td>\n",
       "    </tr>\n",
       "    <tr>\n",
       "      <th>1</th>\n",
       "      <td>DIABLO VALLEY POST ACUTE</td>\n",
       "      <td>3806 CLAYTON ROAD</td>\n",
       "      <td>CONCORD</td>\n",
       "      <td>CA</td>\n",
       "      <td>94521</td>\n",
       "      <td>37.9690</td>\n",
       "      <td>-122.01</td>\n",
       "      <td>4.0</td>\n",
       "      <td>190</td>\n",
       "      <td>167.2</td>\n",
       "      <td>0.98</td>\n",
       "    </tr>\n",
       "    <tr>\n",
       "      <th>2</th>\n",
       "      <td>ST PAUL'S TOWERS</td>\n",
       "      <td>100 BAY PLACE</td>\n",
       "      <td>OAKLAND</td>\n",
       "      <td>CA</td>\n",
       "      <td>94610</td>\n",
       "      <td>37.8119</td>\n",
       "      <td>-122.26</td>\n",
       "      <td>5.0</td>\n",
       "      <td>43</td>\n",
       "      <td>26.3</td>\n",
       "      <td>0.87</td>\n",
       "    </tr>\n",
       "    <tr>\n",
       "      <th>3</th>\n",
       "      <td>JEWISH HOME &amp; REHAB CENTER D/P SNF</td>\n",
       "      <td>302 SILVER AVENUE</td>\n",
       "      <td>SAN FRANCISCO</td>\n",
       "      <td>CA</td>\n",
       "      <td>94112</td>\n",
       "      <td>37.7287</td>\n",
       "      <td>-122.43</td>\n",
       "      <td>2.0</td>\n",
       "      <td>362</td>\n",
       "      <td>345.8</td>\n",
       "      <td>0.80</td>\n",
       "    </tr>\n",
       "    <tr>\n",
       "      <th>4</th>\n",
       "      <td>LAWTON SKILLED NURSING &amp; REHABILITATION CENTER</td>\n",
       "      <td>1575 7TH AVENUE</td>\n",
       "      <td>SAN FRANCISCO</td>\n",
       "      <td>CA</td>\n",
       "      <td>94122</td>\n",
       "      <td>37.7590</td>\n",
       "      <td>-122.46</td>\n",
       "      <td>5.0</td>\n",
       "      <td>68</td>\n",
       "      <td>54.8</td>\n",
       "      <td>0.58</td>\n",
       "    </tr>\n",
       "  </tbody>\n",
       "</table>\n",
       "</div>"
      ],
      "text/plain": [
       "                                    Provider Name      Provider Address  \\\n",
       "0                      BANCROFT HEALTHCARE CENTER  1475 BANCROFT AVENUE   \n",
       "1                        DIABLO VALLEY POST ACUTE     3806 CLAYTON ROAD   \n",
       "2                                ST PAUL'S TOWERS         100 BAY PLACE   \n",
       "3              JEWISH HOME & REHAB CENTER D/P SNF     302 SILVER AVENUE   \n",
       "4  LAWTON SKILLED NURSING & REHABILITATION CENTER       1575 7TH AVENUE   \n",
       "\n",
       "       City/Town State  ZIP Code  Latitude  Longitude  Overall Rating  \\\n",
       "0    SAN LEANDRO    CA     94577   37.7256    -122.15             4.0   \n",
       "1        CONCORD    CA     94521   37.9690    -122.01             4.0   \n",
       "2        OAKLAND    CA     94610   37.8119    -122.26             5.0   \n",
       "3  SAN FRANCISCO    CA     94112   37.7287    -122.43             2.0   \n",
       "4  SAN FRANCISCO    CA     94122   37.7590    -122.46             5.0   \n",
       "\n",
       "   Number of Certified Beds  Average Number of Residents per Day  \\\n",
       "0                        39                                 34.7   \n",
       "1                       190                                167.2   \n",
       "2                        43                                 26.3   \n",
       "3                       362                                345.8   \n",
       "4                        68                                 54.8   \n",
       "\n",
       "   conversion_score  \n",
       "0              0.69  \n",
       "1              0.98  \n",
       "2              0.87  \n",
       "3              0.80  \n",
       "4              0.58  "
      ]
     },
     "execution_count": 6,
     "metadata": {},
     "output_type": "execute_result"
    }
   ],
   "source": [
    "df.head()"
   ]
  },
  {
   "cell_type": "code",
   "execution_count": null,
   "id": "737868d4",
   "metadata": {},
   "outputs": [],
   "source": []
  }
 ],
 "metadata": {
  "kernelspec": {
   "display_name": "Python 3",
   "language": "python",
   "name": "python3"
  },
  "language_info": {
   "codemirror_mode": {
    "name": "ipython",
    "version": 3
   },
   "file_extension": ".py",
   "mimetype": "text/x-python",
   "name": "python",
   "nbconvert_exporter": "python",
   "pygments_lexer": "ipython3",
   "version": "3.12.1"
  }
 },
 "nbformat": 4,
 "nbformat_minor": 5
}
